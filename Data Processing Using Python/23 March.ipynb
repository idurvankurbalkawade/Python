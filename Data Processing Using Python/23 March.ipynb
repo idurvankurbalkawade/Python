{
 "cells": [
  {
   "cell_type": "markdown",
   "metadata": {},
   "source": [
    "## JSON"
   ]
  },
  {
   "cell_type": "code",
   "execution_count": 2,
   "metadata": {},
   "outputs": [],
   "source": [
    "import json"
   ]
  },
  {
   "cell_type": "code",
   "execution_count": 19,
   "metadata": {},
   "outputs": [
    {
     "name": "stdout",
     "output_type": "stream",
     "text": [
      "{'sname': 'Durvankur', 'age': 20, 'city': 'Pune'}\n"
     ]
    }
   ],
   "source": [
    "x='{\"sname\":\"Durvankur\",\"age\":20,\"city\":\"Pune\"}'\n",
    "y=json.loads(x)\n",
    "print(y)"
   ]
  },
  {
   "cell_type": "code",
   "execution_count": 3,
   "metadata": {},
   "outputs": [
    {
     "name": "stdout",
     "output_type": "stream",
     "text": [
      "{\"sname\": \"Durvankur\", \"age\": 20, \"city\": \"Pune\"}\n"
     ]
    }
   ],
   "source": [
    "x={\"sname\":\"Durvankur\",\"age\":20,\"city\":\"Pune\"}\n",
    "y=json.dumps(x)\n",
    "print(y)"
   ]
  },
  {
   "cell_type": "code",
   "execution_count": 12,
   "metadata": {},
   "outputs": [],
   "source": [
    "student={\n",
    "    \"Name\":\"Durvankur\",\n",
    "    \"Roll no\":\"407\",\n",
    "    \"Grade\":\"A\",\n",
    "    \"Age\":20,\n",
    "    \"Subject\":\"Python\"\n",
    "}\n",
    "with open(\"data.json\",\"w\") as file:\n",
    "    json.dump(student,file)"
   ]
  },
  {
   "cell_type": "code",
   "execution_count": 14,
   "metadata": {},
   "outputs": [
    {
     "name": "stdout",
     "output_type": "stream",
     "text": [
      "{'Name': 'Durvankur', 'Roll no': '407', 'Grade': 'A', 'Age': 20, 'Subject': 'Python'}\n"
     ]
    }
   ],
   "source": [
    "with open(\"data.json\") as file:\n",
    "    data=json.load(file)\n",
    "    print(data)"
   ]
  },
  {
   "cell_type": "code",
   "execution_count": 16,
   "metadata": {},
   "outputs": [],
   "source": [
    "Employee={\n",
    "    \"empid\":101,\n",
    "    \"ename\":\"ABC\",\n",
    "    \"Deptname\":\"Accounts\",\n",
    "}\n",
    "with open(\"data.json\",\"w\") as file:\n",
    "    json.dump(Employee,file)"
   ]
  },
  {
   "cell_type": "code",
   "execution_count": 17,
   "metadata": {},
   "outputs": [
    {
     "name": "stdout",
     "output_type": "stream",
     "text": [
      "{'empid': 101, 'ename': 'ABC', 'Deptname': 'Accounts'}\n"
     ]
    }
   ],
   "source": [
    "with open(\"data.json\") as file:\n",
    "    data=json.load(file)\n",
    "    print(data)"
   ]
  },
  {
   "cell_type": "code",
   "execution_count": 23,
   "metadata": {},
   "outputs": [
    {
     "name": "stdout",
     "output_type": "stream",
     "text": [
      "{'sno': 102, 'sname': 'XYZ', 'language': ['C++', 'Python']}\n"
     ]
    }
   ],
   "source": [
    "Student='{\"sno\":102,\"sname\":\"XYZ\",\"language\":[\"C++\",\"Python\"]}'\n",
    "con=json.loads(Student)\n",
    "print(con)"
   ]
  },
  {
   "cell_type": "code",
   "execution_count": 20,
   "metadata": {},
   "outputs": [
    {
     "name": "stdout",
     "output_type": "stream",
     "text": [
      "{\"employee\": [{\"id\": \"01\", \"name\": \"Amit\", \"department\": \"Sales\"}, {\"id\": \"04\", \"name\": \"sunil\", \"depatment\": \"HR\"}]}\n"
     ]
    }
   ],
   "source": [
    "import json\n",
    "emp={\n",
    "\"employee\": [\n",
    "      {\n",
    "         \"id\": \"01\",\n",
    "         \"name\": \"Amit\",\n",
    "         \"department\": \"Sales\"\n",
    "      },\n",
    "      {\n",
    "         \"id\": \"04\",\n",
    "         \"name\": \"sunil\",\n",
    "         \"depatment\": \"HR\"\n",
    "      }\n",
    "   ]\n",
    "}\n",
    "y=json.dumps(emp)\n",
    "print(y)"
   ]
  },
  {
   "cell_type": "markdown",
   "metadata": {},
   "source": [
    "## Data Aggregation"
   ]
  },
  {
   "cell_type": "code",
   "execution_count": 38,
   "metadata": {},
   "outputs": [
    {
     "name": "stdout",
     "output_type": "stream",
     "text": [
      "What was the longest phone call:  20\n",
      "How many rows the dataset:  14\n",
      "How many minutes of phone calls are recorded in total:  144\n"
     ]
    }
   ],
   "source": [
    "import pandas as pd\n",
    "# Load data from csv file\n",
    "data = pd.read_csv(\"records.csv\")\n",
    "# What was the longest phone call / data entry?\n",
    "print('What was the longest phone call: ', data['Duration'].max() )\n",
    "# How many rows the dataset has\n",
    "print('How many rows the dataset: ', data['ToNumber'].count() )\n",
    "print('How many minutes of phone calls are recorded in total: ', data['Duration'].sum() )\n"
   ]
  },
  {
   "cell_type": "code",
   "execution_count": null,
   "metadata": {},
   "outputs": [],
   "source": []
  }
 ],
 "metadata": {
  "kernelspec": {
   "display_name": "Python 3",
   "language": "python",
   "name": "python3"
  },
  "language_info": {
   "codemirror_mode": {
    "name": "ipython",
    "version": 3
   },
   "file_extension": ".py",
   "mimetype": "text/x-python",
   "name": "python",
   "nbconvert_exporter": "python",
   "pygments_lexer": "ipython3",
   "version": "3.8.3"
  }
 },
 "nbformat": 4,
 "nbformat_minor": 4
}
