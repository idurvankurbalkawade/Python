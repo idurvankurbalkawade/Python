{
  "nbformat": 4,
  "nbformat_minor": 0,
  "metadata": {
    "colab": {
      "name": "L1.ipynb",
      "provenance": [],
      "collapsed_sections": []
    },
    "kernelspec": {
      "name": "python3",
      "display_name": "Python 3.8.1 64-bit",
      "metadata": {
        "interpreter": {
          "hash": "d1a5a7ecfbc23fdb37966a740e186bc3bb39082b6359cfa5785b8ec3bb45821f"
        }
      }
    }
  },
  "cells": [
    {
      "cell_type": "code",
      "metadata": {
        "colab": {
          "base_uri": "https://localhost:8080/"
        },
        "id": "22zUwnmkEDSk",
        "outputId": "09ed026a-7106-45ba-8c25-2e5f1715dbde"
      },
      "source": [
        "a=50\n",
        "b=10\n",
        "print(a+b)\n",
        "print(a-b)\n",
        "print(a*b)\n",
        "print(a//b)"
      ],
      "execution_count": 1,
      "outputs": [
        {
          "output_type": "stream",
          "name": "stdout",
          "text": [
            "60\n40\n500\n5\n"
          ]
        }
      ]
    },
    {
      "cell_type": "code",
      "metadata": {
        "colab": {
          "base_uri": "https://localhost:8080/"
        },
        "id": "3c-vUxhtEr3d",
        "outputId": "e202ca82-a847-4123-e32c-2c7ee25b7c49"
      },
      "source": [
        "n=int(input(\"Enter number\"))\r\n",
        "pow=int(input(\"Enter Power\"))\r\n",
        "result=n**pow\r\n",
        "print(result)"
      ],
      "execution_count": null,
      "outputs": [
        {
          "output_type": "stream",
          "text": [
            "Enter number2\n",
            "Enter Power4\n",
            "16\n"
          ],
          "name": "stdout"
        }
      ]
    },
    {
      "cell_type": "code",
      "metadata": {
        "colab": {
          "base_uri": "https://localhost:8080/"
        },
        "id": "ns2SaWS7FgS_",
        "outputId": "2f96a3a3-5c89-4093-bb00-3652013c2aa7"
      },
      "source": [
        "n=int(input(\"Enter a number\"))\r\n",
        "if n%2==0:\r\n",
        "  print(\"Even\")\r\n",
        "else:\r\n",
        "  print(\"Odd\")"
      ],
      "execution_count": null,
      "outputs": [
        {
          "output_type": "stream",
          "text": [
            "Enter a number4\n",
            "Even\n"
          ],
          "name": "stdout"
        }
      ]
    },
    {
      "cell_type": "code",
      "metadata": {
        "colab": {
          "base_uri": "https://localhost:8080/"
        },
        "id": "C58xrbsvGXO5",
        "outputId": "ead1c1fc-c6ef-4624-beb9-2bc9f5be2d82"
      },
      "source": [
        "n=int(input(\"Enter a number\"))\r\n",
        "if n>0:\r\n",
        "  print(\"Positive\")\r\n",
        "elif n<0:\r\n",
        "  print(\"Negative\")\r\n",
        "else:\r\n",
        "  print(\"Zero\")"
      ],
      "execution_count": null,
      "outputs": [
        {
          "output_type": "stream",
          "text": [
            "Enter a number2\n",
            "Positive\n"
          ],
          "name": "stdout"
        }
      ]
    },
    {
      "cell_type": "code",
      "metadata": {
        "colab": {
          "base_uri": "https://localhost:8080/"
        },
        "id": "6Fucctw_H7T9",
        "outputId": "f7a4463e-0cb4-4861-de06-cf456dbd1db5"
      },
      "source": [
        "n1=int(input(\"Enter a number\"))\r\n",
        "n2=int(input(\"Enter a number\"))\r\n",
        "n3=int(input(\"Enter a number\"))\r\n",
        "\r\n",
        "if n1<n2 and n1<n3:\r\n",
        "  print(\"{} is smallest\".format(n1))\r\n",
        "elif n2<n1 and n2<n3:\r\n",
        "  print(\"{} is smallest\".format(n2))\r\n",
        "elif n3<n1 and n3<n2:\r\n",
        "  print(\"{} is smallest\".format(n3))"
      ],
      "execution_count": null,
      "outputs": [
        {
          "output_type": "stream",
          "text": [
            "Enter a number5\n",
            "Enter a number1\n",
            "Enter a number3\n",
            "1 is smallest\n"
          ],
          "name": "stdout"
        }
      ]
    },
    {
      "cell_type": "code",
      "metadata": {
        "colab": {
          "base_uri": "https://localhost:8080/"
        },
        "id": "0M5d_e4FJtF4",
        "outputId": "d13214fc-9325-4584-d476-2a2387c7c248"
      },
      "source": [
        "n=int(input(\"Enter a number\"))\r\n",
        "if n%5==0:\r\n",
        "  print(\"{} is divisible by 5\".format(n))\r\n",
        "else:\r\n",
        "  print(\"{} is not divisible by 5\".format(n))"
      ],
      "execution_count": null,
      "outputs": [
        {
          "output_type": "stream",
          "text": [
            "Enter a number10\n",
            "10 is divisible by 5\n"
          ],
          "name": "stdout"
        }
      ]
    },
    {
      "cell_type": "code",
      "metadata": {
        "colab": {
          "base_uri": "https://localhost:8080/"
        },
        "id": "KOQtR5bLKzm0",
        "outputId": "46e5641d-4473-4122-c2f8-3598f7001a4f"
      },
      "source": [
        "for x in range(1,11):\r\n",
        "  print(x)"
      ],
      "execution_count": null,
      "outputs": [
        {
          "output_type": "stream",
          "text": [
            "1\n",
            "2\n",
            "3\n",
            "4\n",
            "5\n",
            "6\n",
            "7\n",
            "8\n",
            "9\n",
            "10\n"
          ],
          "name": "stdout"
        }
      ]
    },
    {
      "cell_type": "code",
      "metadata": {
        "colab": {
          "base_uri": "https://localhost:8080/"
        },
        "id": "KGgfRjNtKj28",
        "outputId": "a642603d-4477-42f2-baea-b053f266bf09"
      },
      "source": [
        "for x in range(2,22,2):\r\n",
        "  print(X)"
      ],
      "execution_count": null,
      "outputs": [
        {
          "output_type": "stream",
          "text": [
            "2\n",
            "4\n",
            "6\n",
            "8\n",
            "10\n",
            "12\n",
            "14\n",
            "16\n",
            "18\n",
            "20\n"
          ],
          "name": "stdout"
        }
      ]
    },
    {
      "cell_type": "code",
      "metadata": {
        "colab": {
          "base_uri": "https://localhost:8080/"
        },
        "id": "V8nk27C5MTSH",
        "outputId": "e1ecca39-312f-4b25-8da9-a478e2593bd9"
      },
      "source": [
        "x=11\r\n",
        "while x<=20:\r\n",
        "  print(x,end=\" \")\r\n",
        "  x+=1"
      ],
      "execution_count": null,
      "outputs": [
        {
          "output_type": "stream",
          "text": [
            "11 12 13 14 15 16 17 18 19 20 "
          ],
          "name": "stdout"
        }
      ]
    }
  ]
}