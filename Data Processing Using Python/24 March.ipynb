{
 "cells": [
  {
   "cell_type": "code",
   "execution_count": 2,
   "metadata": {},
   "outputs": [],
   "source": [
    "import pandas as pd"
   ]
  },
  {
   "cell_type": "markdown",
   "metadata": {},
   "source": [
    "## Q1)"
   ]
  },
  {
   "cell_type": "code",
   "execution_count": 2,
   "metadata": {},
   "outputs": [
    {
     "name": "stdout",
     "output_type": "stream",
     "text": [
      "Maximum price of 22k gold:  44280\n"
     ]
    }
   ],
   "source": [
    "#Find the highest price of 22k gold.\n",
    "f=pd.read_csv(\"goldsilver.csv\")\n",
    "print(\"Maximum price of 22k gold: \",f['Gold22k'].max())"
   ]
  },
  {
   "cell_type": "code",
   "execution_count": 3,
   "metadata": {},
   "outputs": [
    {
     "name": "stdout",
     "output_type": "stream",
     "text": [
      "Lowest price of 24k gold:  44000\n"
     ]
    }
   ],
   "source": [
    "#Find the lowest price of 24k gold\n",
    "f1=pd.read_csv(\"goldsilver.csv\")\n",
    "print(\"Lowest price of 24k gold: \",f['Gold24k'].min())"
   ]
  },
  {
   "cell_type": "code",
   "execution_count": 5,
   "metadata": {},
   "outputs": [
    {
     "name": "stdout",
     "output_type": "stream",
     "text": [
      "Mean Price of Silver:  466.3\n"
     ]
    }
   ],
   "source": [
    "#Find the mean price of silver.\n",
    "f1=pd.read_csv(\"goldsilver.csv\")\n",
    "print(\"Mean Price of Silver: \",f['silver'].mean())"
   ]
  },
  {
   "cell_type": "code",
   "execution_count": 4,
   "metadata": {},
   "outputs": [
    {
     "name": "stdout",
     "output_type": "stream",
     "text": [
      "Total records:  Date       10\n",
      "Gold22k    10\n",
      "Gold24k    10\n",
      "silver     10\n",
      "dtype: int64\n"
     ]
    }
   ],
   "source": [
    "f1=pd.read_csv(\"goldsilver.csv\")\n",
    "print(\"Total records: \",f1.count())"
   ]
  },
  {
   "cell_type": "markdown",
   "metadata": {},
   "source": [
    "## Q2)"
   ]
  },
  {
   "cell_type": "code",
   "execution_count": 22,
   "metadata": {},
   "outputs": [
    {
     "name": "stdout",
     "output_type": "stream",
     "text": [
      "            Date  Gold22k  Gold24k  silver\n",
      "0  23 March 2021    43000  44000.0     453\n",
      "1  22 March 2021    43800  44800.0     467\n",
      "2  21 March 2021    43920  44920.0     479\n",
      "3  20 March 2021    43930  44930.0     450\n",
      "5  18 March 2021    44280  45280.0     486\n",
      "6  17 March 2021    43960  44960.0     489\n",
      "8  15 March 2021    43840  44840.0     468\n",
      "9  14 March 2021    43870  44870.0     451\n"
     ]
    }
   ],
   "source": [
    "f2=pd.read_csv(\"metalrate.csv\")\n",
    "m=f2.dropna()\n",
    "print(m)"
   ]
  },
  {
   "cell_type": "code",
   "execution_count": 25,
   "metadata": {},
   "outputs": [
    {
     "name": "stdout",
     "output_type": "stream",
     "text": [
      "            Date  Gold22k  Gold24k  silver\n",
      "0  23 March 2021    43000  44000.0     453\n",
      "1  22 March 2021    43800  44800.0     467\n",
      "2  21 March 2021    43920  44920.0     479\n",
      "3  20 March 2021    43930  44930.0     450\n",
      "4  19 March 2021    44070  44825.0     460\n",
      "5  18 March 2021    44280  45280.0     486\n",
      "6  17 March 2021    43960  44960.0     489\n",
      "7  16 March 2021    43840  44825.0     460\n",
      "8  15 March 2021    43840  44840.0     468\n",
      "9  14 March 2021    43870  44870.0     451\n"
     ]
    }
   ],
   "source": [
    "f2=pd.read_csv(\"metalrate.csv\")\n",
    "m=f2['Gold24k'].mean()\n",
    "f2['Gold24k'].fillna(m,inplace=True)\n",
    "print(f2)"
   ]
  },
  {
   "cell_type": "markdown",
   "metadata": {},
   "source": [
    "## Word Tokenization"
   ]
  },
  {
   "cell_type": "code",
   "execution_count": 26,
   "metadata": {},
   "outputs": [
    {
     "name": "stdout",
     "output_type": "stream",
     "text": [
      "['Alexa', 'play', 'party', 'music']\n"
     ]
    },
    {
     "name": "stderr",
     "output_type": "stream",
     "text": [
      "[nltk_data] Downloading package punkt to C:\\Users\\Durvankur\n",
      "[nltk_data]     Balkawade\\AppData\\Roaming\\nltk_data...\n",
      "[nltk_data]   Package punkt is already up-to-date!\n"
     ]
    }
   ],
   "source": [
    "import nltk\n",
    "nltk.download('punkt')\n",
    "wordorder = \"Alexa play party music\"\n",
    "nltk_tokens = nltk.word_tokenize(wordorder)\n",
    "print(nltk_tokens)"
   ]
  },
  {
   "cell_type": "markdown",
   "metadata": {},
   "source": [
    "## Sentence Tokenization"
   ]
  },
  {
   "cell_type": "code",
   "execution_count": 27,
   "metadata": {},
   "outputs": [
    {
     "name": "stdout",
     "output_type": "stream",
     "text": [
      "['Sun rises in the east.', 'Sun sets in the west.']\n"
     ]
    }
   ],
   "source": [
    "import nltk\n",
    "sentence_data = \"Sun rises in the east. Sun sets in the west.\"\n",
    "nltk_tokens = nltk.sent_tokenize(sentence_data)\n",
    "print (nltk_tokens)"
   ]
  },
  {
   "cell_type": "markdown",
   "metadata": {},
   "source": [
    "## Porter Stemmer Algorithm"
   ]
  },
  {
   "cell_type": "code",
   "execution_count": 24,
   "metadata": {},
   "outputs": [
    {
     "name": "stdout",
     "output_type": "stream",
     "text": [
      "Actual: I  Stem: I\n",
      "Actual: started  Stem: start\n",
      "Actual: learning  Stem: learn\n",
      "Actual: Python  Stem: python\n",
      "Actual: on  Stem: on\n",
      "Actual: my  Stem: my\n",
      "Actual: own  Stem: own\n"
     ]
    }
   ],
   "source": [
    "import nltk\n",
    "from nltk.stem.porter import PorterStemmer\n",
    "porter_stemmer = PorterStemmer()\n",
    "word_data = \"I started learning Python on my own\"\n",
    "# First Word tokenization\n",
    "nltk_tokens = nltk.word_tokenize(word_data)\n",
    "#Next find the roots of the word\n",
    "for w in nltk_tokens:\n",
    "       print (\"Actual: %s  Stem: %s\"  % (w,porter_stemmer.stem(w)))"
   ]
  },
  {
   "cell_type": "code",
   "execution_count": null,
   "metadata": {},
   "outputs": [],
   "source": []
  }
 ],
 "metadata": {
  "kernelspec": {
   "display_name": "Python 3",
   "language": "python",
   "name": "python3"
  },
  "language_info": {
   "codemirror_mode": {
    "name": "ipython",
    "version": 3
   },
   "file_extension": ".py",
   "mimetype": "text/x-python",
   "name": "python",
   "nbconvert_exporter": "python",
   "pygments_lexer": "ipython3",
   "version": "3.8.3"
  }
 },
 "nbformat": 4,
 "nbformat_minor": 4
}
