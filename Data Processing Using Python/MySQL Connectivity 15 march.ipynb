{
 "cells": [
  {
   "cell_type": "code",
   "execution_count": 2,
   "metadata": {},
   "outputs": [],
   "source": [
    "import mysql.connector"
   ]
  },
  {
   "cell_type": "code",
   "execution_count": 3,
   "metadata": {},
   "outputs": [],
   "source": [
    "mydb=mysql.connector.connect(\n",
    "    host=\"localhost\",\n",
    "    user=\"root\",\n",
    "    password=\"root@1234\",\n",
    "    database=\"study\"\n",
    ")"
   ]
  },
  {
   "cell_type": "code",
   "execution_count": 5,
   "metadata": {},
   "outputs": [
    {
     "name": "stdout",
     "output_type": "stream",
     "text": [
      "Table Created\n"
     ]
    }
   ],
   "source": [
    "#creating account table\n",
    "cur=mydb.cursor()\n",
    "cur.execute(\"create table account(accno int primary key,cname varchar(30),acctype set('current','savings','recurring'),bal int)\")\n",
    "print (\"Table Created\")"
   ]
  },
  {
   "cell_type": "code",
   "execution_count": 6,
   "metadata": {},
   "outputs": [
    {
     "name": "stdout",
     "output_type": "stream",
     "text": [
      "Column added\n"
     ]
    }
   ],
   "source": [
    "#altering the table\n",
    "cur=mydb.cursor()\n",
    "cur.execute(\"alter table account add column minbal int\")\n",
    "print(\"Column added\")"
   ]
  },
  {
   "cell_type": "code",
   "execution_count": 20,
   "metadata": {},
   "outputs": [
    {
     "name": "stdout",
     "output_type": "stream",
     "text": [
      "Data inserted\n"
     ]
    }
   ],
   "source": [
    "#inserting records\n",
    "cur=mydb.cursor()\n",
    "cur.execute(\"insert into account values(100005,'John','savings',500,1000)\")\n",
    "mydb.commit()\n",
    "print(\"Data inserted\")"
   ]
  },
  {
   "cell_type": "code",
   "execution_count": 11,
   "metadata": {},
   "outputs": [
    {
     "name": "stdout",
     "output_type": "stream",
     "text": [
      "(100001, 'Manas', {'savings'}, 5000, 1000)\n",
      "(100002, 'Durvankur', {'savings'}, 6000, 1000)\n",
      "(100003, 'Vaishnavi', {'current'}, 4000, 1000)\n"
     ]
    }
   ],
   "source": [
    "#display details\n",
    "cur=mydb.cursor()\n",
    "cur.execute(\"select * from account\")\n",
    "data=cur.fetchall()\n",
    "for i in data:\n",
    "    print(i)"
   ]
  },
  {
   "cell_type": "code",
   "execution_count": 4,
   "metadata": {},
   "outputs": [
    {
     "name": "stdout",
     "output_type": "stream",
     "text": [
      "Balance updated\n"
     ]
    }
   ],
   "source": [
    "#updating balance\n",
    "cur=mydb.cursor()\n",
    "cur.execute(\"update account set bal=bal+bal*0.04\")\n",
    "mydb.commit()\n",
    "print(\"Balance updated\")"
   ]
  },
  {
   "cell_type": "code",
   "execution_count": 19,
   "metadata": {},
   "outputs": [
    {
     "name": "stdout",
     "output_type": "stream",
     "text": [
      "(100003, 'Durvankur', {'savings'}, 8320, 1000)\n",
      "(100004, 'Manas', {'savings'}, 8840, 1000)\n"
     ]
    }
   ],
   "source": [
    "#display details of saving account holders\n",
    "cur=mydb.cursor()\n",
    "cur.execute(\"select * from account where acctype='savings'\")\n",
    "data=cur.fetchall()\n",
    "for i in data:\n",
    "    print(i)"
   ]
  },
  {
   "cell_type": "code",
   "execution_count": 23,
   "metadata": {},
   "outputs": [
    {
     "name": "stdout",
     "output_type": "stream",
     "text": [
      "Data removed\n"
     ]
    }
   ],
   "source": [
    "#deleting data of holders whose balance is less than minbal\n",
    "cur=mydb.cursor()\n",
    "cur.execute(\"delete from account where bal<minbal\")\n",
    "mydb.commit()\n",
    "print(\"Data removed\")"
   ]
  },
  {
   "cell_type": "code",
   "execution_count": null,
   "metadata": {},
   "outputs": [],
   "source": []
  }
 ],
 "metadata": {
  "kernelspec": {
   "display_name": "Python 3",
   "language": "python",
   "name": "python3"
  },
  "language_info": {
   "codemirror_mode": {
    "name": "ipython",
    "version": 3
   },
   "file_extension": ".py",
   "mimetype": "text/x-python",
   "name": "python",
   "nbconvert_exporter": "python",
   "pygments_lexer": "ipython3",
   "version": "3.8.3"
  }
 },
 "nbformat": 4,
 "nbformat_minor": 2
}
