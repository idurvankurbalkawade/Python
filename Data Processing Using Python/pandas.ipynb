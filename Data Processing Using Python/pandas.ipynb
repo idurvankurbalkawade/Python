{
 "cells": [
  {
   "cell_type": "code",
   "execution_count": 2,
   "metadata": {},
   "outputs": [
    {
     "name": "stdout",
     "output_type": "stream",
     "text": [
      "   eno      ename dept        des\n",
      "0    1  Durvankur   HR       Head\n",
      "1    2      Manas   IT  Developer\n",
      "2    3     Sachee   IT    Analyst\n",
      "3    1  Durvankur   HR    Manager\n"
     ]
    }
   ],
   "source": [
    "import pandas as pd\n",
    "m1 = pd.read_csv(\"emp.csv\")\n",
    "print(m1)"
   ]
  },
  {
   "cell_type": "code",
   "execution_count": 3,
   "metadata": {},
   "outputs": [
    {
     "name": "stdout",
     "output_type": "stream",
     "text": [
      "0    False\n",
      "1    False\n",
      "2    False\n",
      "3    False\n",
      "dtype: bool\n"
     ]
    }
   ],
   "source": [
    "print(m1.duplicated())"
   ]
  },
  {
   "cell_type": "code",
   "execution_count": 13,
   "metadata": {},
   "outputs": [
    {
     "name": "stdout",
     "output_type": "stream",
     "text": [
      "['eno', 'ename', 'dept', 'des']\n",
      "['1', 'Durvankur', 'HR', 'Head']\n",
      "['2', 'Manas', 'IT', 'Developer']\n",
      "['3', 'Sachee', 'IT', 'Analyst']\n",
      "['1', 'Durvankur', 'HR', 'Manager']\n"
     ]
    }
   ],
   "source": [
    "import csv\n",
    "with open(\"emp.csv\",\"r\") as file:\n",
    "    reader = csv.reader(file)\n",
    "    for row in reader:\n",
    "        print(row)"
   ]
  },
  {
   "cell_type": "code",
   "execution_count": 14,
   "metadata": {},
   "outputs": [
    {
     "name": "stdout",
     "output_type": "stream",
     "text": [
      "   eno      ename dept        des\n",
      "0    1  Durvankur   HR       Head\n",
      "1    2      Manas   IT  Developer\n",
      "2    3     Sachee   IT    Analyst\n",
      "3    1  Durvankur   HR    Manager\n"
     ]
    }
   ],
   "source": [
    "import pandas as pd\n",
    "m1 = pd.read_csv(\"emp.csv\")\n",
    "d1 = m1.dropna()\n",
    "print(d1.to_string())"
   ]
  },
  {
   "cell_type": "code",
   "execution_count": 38,
   "metadata": {},
   "outputs": [
    {
     "name": "stdout",
     "output_type": "stream",
     "text": [
      "      Name Class\n",
      "Btech  ABC    FY\n",
      "BCS    XYZ    SY\n",
      "BCA    DEF    TY\n"
     ]
    }
   ],
   "source": [
    "student={\n",
    "    \"Name\":[\"ABC\",\"XYZ\",\"DEF\"],\n",
    "    \"Class\":[\"FY\",\"SY\",\"TY\"]\n",
    "}\n",
    "r1 = pd.DataFrame(student,index=[\"Btech\",\"BCS\",\"BCA\"])\n",
    "print(r1)"
   ]
  },
  {
   "cell_type": "code",
   "execution_count": 18,
   "metadata": {},
   "outputs": [
    {
     "name": "stdout",
     "output_type": "stream",
     "text": [
      "Name     ABC\n",
      "Class     FY\n",
      "Name: 0, dtype: object\n"
     ]
    }
   ],
   "source": [
    "student={\n",
    "    \"Name\":[\"ABC\",\"XYZ\",\"DEF\"],\n",
    "    \"Class\":[\"FY\",\"SY\",\"TY\"]\n",
    "}\n",
    "r1 = pd.DataFrame(student)\n",
    "print(r1.loc[0])"
   ]
  },
  {
   "cell_type": "code",
   "execution_count": 20,
   "metadata": {},
   "outputs": [
    {
     "name": "stdout",
     "output_type": "stream",
     "text": [
      "  Name Class\n",
      "0  ABC    FY\n",
      "1  XYZ    SY\n"
     ]
    }
   ],
   "source": [
    "student={\n",
    "    \"Name\":[\"ABC\",\"XYZ\",\"DEF\"],\n",
    "    \"Class\":[\"FY\",\"SY\",\"TY\"]\n",
    "}\n",
    "r1 = pd.DataFrame(student)\n",
    "print(r1.loc[[0,1]])"
   ]
  },
  {
   "cell_type": "code",
   "execution_count": 4,
   "metadata": {},
   "outputs": [
    {
     "name": "stdout",
     "output_type": "stream",
     "text": [
      "  Name Class\n",
      "0  ABC    FY\n",
      "1  XYZ    SY\n",
      "2  DEF    TY\n"
     ]
    }
   ],
   "source": [
    "student={\n",
    "    \"Name\":[\"ABC\",\"XYZ\",\"DEF\"],\n",
    "    \"Class\":[\"FY\",\"SY\",\"TY\"]\n",
    "}\n",
    "r1 = pd.DataFrame(student)\n",
    "print(r1.loc[0:2])"
   ]
  },
  {
   "cell_type": "code",
   "execution_count": 41,
   "metadata": {},
   "outputs": [
    {
     "name": "stdout",
     "output_type": "stream",
     "text": [
      "   pno             pname      brand     price\n",
      "0    1             Mi A3     Xiaomi   16000.0\n",
      "1    2       Samsung A51    Samsung       NaN\n",
      "2    3  Redmi Note 8 Pro     Xiaomi   14999.0\n",
      "3    4     Iphone 12 pro  Apple.Inc  120000.0\n"
     ]
    }
   ],
   "source": [
    "import pandas as pd\n",
    "n1=pd.read_csv(\"mobproduct.csv\")\n",
    "print(n1)"
   ]
  },
  {
   "cell_type": "code",
   "execution_count": 36,
   "metadata": {},
   "outputs": [
    {
     "name": "stdout",
     "output_type": "stream",
     "text": [
      "                pname      brand     price\n",
      "pno                                       \n",
      "1               Mi A3     Xiaomi   16000.0\n",
      "3    Redmi Note 8 Pro     Xiaomi   14999.0\n",
      "4       Iphone 12 pro  Apple.Inc  120000.0\n"
     ]
    }
   ],
   "source": [
    "import pandas as pd\n",
    "n1=pd.read_csv(\"mobproduct.csv\",index_col=\"pno\")\n",
    "m=n1.dropna()\n",
    "print(m)"
   ]
  },
  {
   "cell_type": "code",
   "execution_count": 37,
   "metadata": {},
   "outputs": [
    {
     "name": "stdout",
     "output_type": "stream",
     "text": [
      "0    False\n",
      "1    False\n",
      "2    False\n",
      "3    False\n",
      "dtype: bool\n"
     ]
    }
   ],
   "source": [
    "import pandas as pd\n",
    "n1=pd.read_csv(\"mobproduct.csv\")\n",
    "print(n1.duplicated())"
   ]
  },
  {
   "cell_type": "code",
   "execution_count": 40,
   "metadata": {},
   "outputs": [
    {
     "name": "stdout",
     "output_type": "stream",
     "text": [
      "                pname      brand     price\n",
      "pno                                       \n",
      "1               Mi A3     Xiaomi   16000.0\n",
      "2         Samsung A51    Samsung       NaN\n",
      "3    Redmi Note 8 Pro     Xiaomi   14999.0\n",
      "4       Iphone 12 pro  Apple.Inc  120000.0\n"
     ]
    }
   ],
   "source": [
    "import pandas as pd\n",
    "n1=pd.read_csv(\"mobproduct.csv\",index_col=\"pno\")\n",
    "print(n1)"
   ]
  },
  {
   "cell_type": "code",
   "execution_count": null,
   "metadata": {},
   "outputs": [],
   "source": []
  }
 ],
 "metadata": {
  "kernelspec": {
   "display_name": "Python 3",
   "language": "python",
   "name": "python3"
  },
  "language_info": {
   "codemirror_mode": {
    "name": "ipython",
    "version": 3
   },
   "file_extension": ".py",
   "mimetype": "text/x-python",
   "name": "python",
   "nbconvert_exporter": "python",
   "pygments_lexer": "ipython3",
   "version": "3.8.3"
  },
  "metadata": {
   "interpreter": {
    "hash": "d1a5a7ecfbc23fdb37966a740e186bc3bb39082b6359cfa5785b8ec3bb45821f"
   }
  }
 },
 "nbformat": 4,
 "nbformat_minor": 2
}
