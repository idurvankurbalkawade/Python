{
 "cells": [
  {
   "cell_type": "code",
   "execution_count": 1,
   "id": "c52dcc54",
   "metadata": {},
   "outputs": [],
   "source": [
    "from password_generator import PasswordGenerator\n",
    "from tkinter import *"
   ]
  },
  {
   "cell_type": "code",
   "execution_count": 2,
   "id": "441e189c",
   "metadata": {},
   "outputs": [],
   "source": [
    "password=PasswordGenerator()"
   ]
  },
  {
   "cell_type": "code",
   "execution_count": 3,
   "id": "49ecb733",
   "metadata": {},
   "outputs": [],
   "source": [
    "password.minlen=10\n",
    "password.maxlen=20\n",
    "password.minuchars=5\n",
    "password.minlchars=5"
   ]
  },
  {
   "cell_type": "code",
   "execution_count": 4,
   "id": "e1261c4c",
   "metadata": {},
   "outputs": [],
   "source": [
    "def create():\n",
    "    output=password.generate()\n",
    "    p1.insert(0,output)"
   ]
  },
  {
   "cell_type": "code",
   "execution_count": 5,
   "id": "5cc260be",
   "metadata": {},
   "outputs": [],
   "source": [
    "def delete():\n",
    "    p1.delete(0,END)"
   ]
  },
  {
   "cell_type": "code",
   "execution_count": 6,
   "id": "7a2d818b",
   "metadata": {},
   "outputs": [
    {
     "data": {
      "text/plain": [
       "''"
      ]
     },
     "execution_count": 6,
     "metadata": {},
     "output_type": "execute_result"
    }
   ],
   "source": [
    "pwd=Tk()\n",
    "pwd.title(\"Password Generator\")"
   ]
  },
  {
   "cell_type": "code",
   "execution_count": 7,
   "id": "713d03d2",
   "metadata": {},
   "outputs": [],
   "source": [
    "p1=Entry(pwd)\n",
    "gen=Button(pwd,text=\"Generate\",command=create)\n",
    "clr=Button(pwd,text=\"Clear\",command=delete)\n",
    "l1=Label(pwd,text=\"Password Generator\",font=(\"Arial\",15,\"bold\"))"
   ]
  },
  {
   "cell_type": "code",
   "execution_count": 8,
   "id": "b6a16822",
   "metadata": {},
   "outputs": [],
   "source": [
    "l1.grid(row=0,column=0)\n",
    "p1.grid(row=1,column=0)\n",
    "gen.grid(row=2,column=0)\n",
    "clr.grid(row=3,column=0)"
   ]
  },
  {
   "cell_type": "code",
   "execution_count": 9,
   "id": "6dc58150",
   "metadata": {},
   "outputs": [],
   "source": [
    "pwd.mainloop()"
   ]
  },
  {
   "cell_type": "code",
   "execution_count": null,
   "id": "abba1741",
   "metadata": {},
   "outputs": [],
   "source": []
  }
 ],
 "metadata": {
  "kernelspec": {
   "display_name": "Python 3",
   "language": "python",
   "name": "python3"
  },
  "language_info": {
   "codemirror_mode": {
    "name": "ipython",
    "version": 3
   },
   "file_extension": ".py",
   "mimetype": "text/x-python",
   "name": "python",
   "nbconvert_exporter": "python",
   "pygments_lexer": "ipython3",
   "version": "3.8.3"
  }
 },
 "nbformat": 4,
 "nbformat_minor": 5
}
