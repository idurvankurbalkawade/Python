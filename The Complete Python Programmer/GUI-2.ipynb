{
 "cells": [
  {
   "cell_type": "markdown",
   "id": "60eb77d0",
   "metadata": {},
   "source": [
    "## Simple GUI to add two numbers"
   ]
  },
  {
   "cell_type": "code",
   "execution_count": 1,
   "id": "ed52d5bb",
   "metadata": {},
   "outputs": [],
   "source": [
    "from tkinter import *\n",
    "from tkinter import messagebox"
   ]
  },
  {
   "cell_type": "markdown",
   "id": "7f6a2768",
   "metadata": {},
   "source": [
    "## Creating the main window"
   ]
  },
  {
   "cell_type": "code",
   "execution_count": 2,
   "id": "42db1056",
   "metadata": {},
   "outputs": [],
   "source": [
    "frame1=Tk()"
   ]
  },
  {
   "cell_type": "markdown",
   "id": "57176e86",
   "metadata": {},
   "source": [
    "## Creating the labels"
   ]
  },
  {
   "cell_type": "code",
   "execution_count": 3,
   "id": "511becfc",
   "metadata": {},
   "outputs": [],
   "source": [
    "l1=Label(frame1,text=\"Enter 1st Number: \")\n",
    "l2=Label(frame1,text=\"Enter 2nd Number: \")"
   ]
  },
  {
   "cell_type": "markdown",
   "id": "b2ceb409",
   "metadata": {},
   "source": [
    "## Creating text fields"
   ]
  },
  {
   "cell_type": "code",
   "execution_count": 4,
   "id": "feecc34e",
   "metadata": {},
   "outputs": [],
   "source": [
    "t1=Entry(frame1)\n",
    "t2=Entry(frame1)"
   ]
  },
  {
   "cell_type": "markdown",
   "id": "0bb1f3c7",
   "metadata": {},
   "source": [
    "## Writing Code for the buttons"
   ]
  },
  {
   "cell_type": "code",
   "execution_count": 5,
   "id": "0dd556a8",
   "metadata": {},
   "outputs": [],
   "source": [
    "def add():\n",
    "    try:\n",
    "        x=int(t1.get())\n",
    "        y=int(t2.get())\n",
    "        result=x+y\n",
    "        messagebox.showinfo(\"Output\",\"Answer is {}\".format(result))\n",
    "    except:\n",
    "        messagebox.showerror(\"Error\",\"Inputs are invalid\")"
   ]
  },
  {
   "cell_type": "markdown",
   "id": "93999977",
   "metadata": {},
   "source": [
    "## Creating the buttons"
   ]
  },
  {
   "cell_type": "code",
   "execution_count": 6,
   "id": "e5701e45",
   "metadata": {},
   "outputs": [],
   "source": [
    "b1=Button(frame1,text=\"Add\",padx=40,pady=10,command=add)\n",
    "b2=Button(frame1,text=\"Exit\",padx=40,pady=10,command=frame1.quit)"
   ]
  },
  {
   "cell_type": "markdown",
   "id": "7afb009a",
   "metadata": {},
   "source": [
    "## Inserting the components in the window"
   ]
  },
  {
   "cell_type": "code",
   "execution_count": 7,
   "id": "85c174d2",
   "metadata": {},
   "outputs": [],
   "source": [
    "l1.grid(row=0,column=0)\n",
    "l2.grid(row=1,column=0)\n",
    "t1.grid(row=0,column=1)\n",
    "t2.grid(row=1,column=1)\n",
    "b1.grid(row=2,column=0)\n",
    "b2.grid(row=2,column=1)"
   ]
  },
  {
   "cell_type": "code",
   "execution_count": 8,
   "id": "8bec04e4",
   "metadata": {},
   "outputs": [],
   "source": [
    "frame1.mainloop()"
   ]
  },
  {
   "cell_type": "code",
   "execution_count": null,
   "id": "45da88fe",
   "metadata": {},
   "outputs": [],
   "source": []
  }
 ],
 "metadata": {
  "kernelspec": {
   "display_name": "Python 3",
   "language": "python",
   "name": "python3"
  },
  "language_info": {
   "codemirror_mode": {
    "name": "ipython",
    "version": 3
   },
   "file_extension": ".py",
   "mimetype": "text/x-python",
   "name": "python",
   "nbconvert_exporter": "python",
   "pygments_lexer": "ipython3",
   "version": "3.8.3"
  }
 },
 "nbformat": 4,
 "nbformat_minor": 5
}
