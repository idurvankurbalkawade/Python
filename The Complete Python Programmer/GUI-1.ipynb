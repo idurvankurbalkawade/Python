{
 "cells": [
  {
   "cell_type": "markdown",
   "id": "0a083303",
   "metadata": {},
   "source": [
    "## Importing tkinter module"
   ]
  },
  {
   "cell_type": "code",
   "execution_count": 1,
   "id": "7224393c",
   "metadata": {},
   "outputs": [],
   "source": [
    "from tkinter import *"
   ]
  },
  {
   "cell_type": "markdown",
   "id": "7701f48c",
   "metadata": {},
   "source": [
    "## Create a window"
   ]
  },
  {
   "cell_type": "code",
   "execution_count": 2,
   "id": "10a465d3",
   "metadata": {},
   "outputs": [
    {
     "data": {
      "text/plain": [
       "''"
      ]
     },
     "execution_count": 2,
     "metadata": {},
     "output_type": "execute_result"
    }
   ],
   "source": [
    "win1=Tk()\n",
    "win1.title(\"My First App\")"
   ]
  },
  {
   "cell_type": "markdown",
   "id": "e0f80ef1",
   "metadata": {},
   "source": [
    "## Widgets"
   ]
  },
  {
   "cell_type": "code",
   "execution_count": 3,
   "id": "ae29321c",
   "metadata": {},
   "outputs": [],
   "source": [
    "w1=Label(win1,text=\"Hello World\")"
   ]
  },
  {
   "cell_type": "markdown",
   "id": "b4c2489b",
   "metadata": {},
   "source": [
    "## Inserting widget into window"
   ]
  },
  {
   "cell_type": "code",
   "execution_count": 4,
   "id": "5f171e6b",
   "metadata": {},
   "outputs": [],
   "source": [
    "##pack() will occupy the space of whole window\n",
    "w1.pack()"
   ]
  },
  {
   "cell_type": "markdown",
   "id": "744fde58",
   "metadata": {},
   "source": [
    "## Running the GUI"
   ]
  },
  {
   "cell_type": "code",
   "execution_count": 5,
   "id": "87f80650",
   "metadata": {},
   "outputs": [],
   "source": [
    "win1.mainloop()"
   ]
  },
  {
   "cell_type": "code",
   "execution_count": null,
   "id": "e5776ebe",
   "metadata": {},
   "outputs": [],
   "source": []
  }
 ],
 "metadata": {
  "kernelspec": {
   "display_name": "Python 3",
   "language": "python",
   "name": "python3"
  },
  "language_info": {
   "codemirror_mode": {
    "name": "ipython",
    "version": 3
   },
   "file_extension": ".py",
   "mimetype": "text/x-python",
   "name": "python",
   "nbconvert_exporter": "python",
   "pygments_lexer": "ipython3",
   "version": "3.8.3"
  }
 },
 "nbformat": 4,
 "nbformat_minor": 5
}
