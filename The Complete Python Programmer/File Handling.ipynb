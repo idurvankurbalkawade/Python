{
 "metadata": {
  "language_info": {
   "codemirror_mode": {
    "name": "ipython",
    "version": 3
   },
   "file_extension": ".py",
   "mimetype": "text/x-python",
   "name": "python",
   "nbconvert_exporter": "python",
   "pygments_lexer": "ipython3",
   "version": "3.8.1-final"
  },
  "orig_nbformat": 2,
  "kernelspec": {
   "name": "python381jvsc74a57bd0d1a5a7ecfbc23fdb37966a740e186bc3bb39082b6359cfa5785b8ec3bb45821f",
   "display_name": "Python 3.8.1 64-bit"
  },
  "metadata": {
   "interpreter": {
    "hash": "d1a5a7ecfbc23fdb37966a740e186bc3bb39082b6359cfa5785b8ec3bb45821f"
   }
  }
 },
 "nbformat": 4,
 "nbformat_minor": 2,
 "cells": [
  {
   "source": [
    "## Opening a File"
   ],
   "cell_type": "markdown",
   "metadata": {}
  },
  {
   "cell_type": "code",
   "execution_count": 18,
   "metadata": {},
   "outputs": [],
   "source": [
    "f=open(\"demo.txt\",\"r\")"
   ]
  },
  {
   "cell_type": "code",
   "execution_count": null,
   "metadata": {},
   "outputs": [],
   "source": [
    "##r->reading w->writing r+w->append"
   ]
  },
  {
   "source": [
    "## Reading a File"
   ],
   "cell_type": "markdown",
   "metadata": {}
  },
  {
   "cell_type": "code",
   "execution_count": 20,
   "metadata": {},
   "outputs": [
    {
     "output_type": "execute_result",
     "data": {
      "text/plain": [
       "'The Shaniwarwada was normally the seven-storey capital building of the Peshwas of the Maratha Empire. It was supposed to be made entirely of stone but after the completion of the base floor or the first storey, the people of Satara (the national capital) complained to the Shahu(King) saying that a stone monument can be sanctioned and built only by the Shahu(King) himself and not the Peshwas. Following this, an official letter was written to the Peshwas stating that the remaining building had to be made of brick and not stone. Even today if you visit and see the walls carefully, they are partly made of stone and partly by bricks. The Wada was then completed and upon being attacked by the British Artillery 90 years later, all the top six stories collapsed leaving only the stone base, which was immune to the British artillery. Hence only the stone base of the Shaniwar Wada remains and can be seen even today in the older parts of Pune.'"
      ]
     },
     "metadata": {},
     "execution_count": 20
    }
   ],
   "source": [
    "f.read()"
   ]
  },
  {
   "cell_type": "code",
   "execution_count": 22,
   "metadata": {},
   "outputs": [
    {
     "output_type": "execute_result",
     "data": {
      "text/plain": [
       "'The Shaniwarwada was normally the seven-storey capital building of the Peshwas of the Maratha Empire'"
      ]
     },
     "metadata": {},
     "execution_count": 22
    }
   ],
   "source": [
    "f.read(100)"
   ]
  },
  {
   "cell_type": "code",
   "execution_count": 27,
   "metadata": {},
   "outputs": [
    {
     "output_type": "execute_result",
     "data": {
      "text/plain": [
       "''"
      ]
     },
     "metadata": {},
     "execution_count": 27
    }
   ],
   "source": [
    "f.read()"
   ]
  },
  {
   "cell_type": "code",
   "execution_count": 28,
   "metadata": {},
   "outputs": [],
   "source": [
    "##to close file close() method is used\n",
    "f.close()"
   ]
  },
  {
   "cell_type": "code",
   "execution_count": null,
   "metadata": {},
   "outputs": [],
   "source": []
  },
  {
   "source": [
    "## with block in python"
   ],
   "cell_type": "markdown",
   "metadata": {}
  },
  {
   "cell_type": "code",
   "execution_count": 12,
   "metadata": {},
   "outputs": [
    {
     "output_type": "stream",
     "name": "stdout",
     "text": [
      "The Shaniwarwada was normally the seven-storey capital building of the Peshwas of the Maratha Empire. It was supposed to be made entirely of stone but after the completion of the base floor or the first storey, the people of Satara (the national capital) complained to the Shahu(King) saying that a stone monument can be sanctioned and built only by the Shahu(King) himself and not the Peshwas. Following this, an official letter was written to the Peshwas stating that the remaining building had to be made of brick and not stone. Even today if you visit and see the walls carefully, they are partly made of stone and partly by bricks. The Wada was then completed and upon being attacked by the British Artillery 90 years later, all the top six stories collapsed leaving only the stone base, which was immune to the British artillery. Hence only the stone base of the Shaniwar Wada remains and can be seen even today in the older parts of Pune.\n"
     ]
    }
   ],
   "source": [
    "with open(\"demo.txt\",\"r\") as f:\n",
    "    print(f.readline())"
   ]
  },
  {
   "cell_type": "code",
   "execution_count": 15,
   "metadata": {},
   "outputs": [
    {
     "output_type": "execute_result",
     "data": {
      "text/plain": [
       "'The Shaniwarwada was normally the seven-storey capital building of the Peshwas of the Maratha Empire. It was supposed to be made entirely of stone but after the completion of the base floor or the first storey, the people of Satara (the national capital) complained to the Shahu(King) saying that a stone monument can be sanctioned and built only by the Shahu(King) himself and not the Peshwas. Following this, an official letter was written to the Peshwas stating that the remaining building had to be made of brick and not stone. Even today if you visit and see the walls carefully, they are partly made of stone and partly by bricks. The Wada was then completed and upon being attacked by the British Artillery 90 years later, all the top six stories collapsed leaving only the stone base, which was immune to the British artillery. Hence only the stone base of the Shaniwar Wada remains and can be seen even today in the older parts of Pune.'"
      ]
     },
     "metadata": {},
     "execution_count": 15
    }
   ],
   "source": [
    "f.read()"
   ]
  },
  {
   "cell_type": "code",
   "execution_count": null,
   "metadata": {},
   "outputs": [],
   "source": []
  },
  {
   "source": [
    "## Writing a File"
   ],
   "cell_type": "markdown",
   "metadata": {}
  },
  {
   "cell_type": "code",
   "execution_count": 17,
   "metadata": {},
   "outputs": [
    {
     "output_type": "stream",
     "name": "stdout",
     "text": [
      "Done Writing\n"
     ]
    }
   ],
   "source": [
    "with open(\"python.txt\",\"w\") as f:\n",
    "    data=[\"Hello I am Durvankur\\n\",\"I live in Pune\"]\n",
    "    f.writelines(data)\n",
    "    print(\"Done Writing\")"
   ]
  },
  {
   "cell_type": "code",
   "execution_count": null,
   "metadata": {},
   "outputs": [],
   "source": []
  },
  {
   "source": [
    "## tell() and seek()"
   ],
   "cell_type": "markdown",
   "metadata": {}
  },
  {
   "cell_type": "code",
   "execution_count": 24,
   "metadata": {},
   "outputs": [
    {
     "output_type": "stream",
     "name": "stdout",
     "text": [
      "The Shaniwarwada was normally the seven-storey capital building of the Peshwas of the Maratha Empire. It was supposed to be made entirely of stone but after the completion of the base floor or the first storey, the people of Satara (the national capital) complained to the Shahu(King) saying that a stone monument can be sanctioned and built only by the Shahu(King) himself and not the Peshwas. Following this, an official letter was written to the Peshwas stating that the remaining building had to be made of brick and not stone. Even today if you visit and see the walls carefully, they are partly made of stone and partly by bricks. The Wada was then completed and upon being attacked by the British Artillery 90 years later, all the top six stories collapsed leaving only the stone base, which was immune to the British artillery. Hence only the stone base of the Shaniwar Wada remains and can be seen even today in the older parts of Pune.\n\nFile object position: 945\n"
     ]
    }
   ],
   "source": [
    "f=open(\"demo.txt\",\"r\")\n",
    "print(f.readline())\n",
    "print(\"\")\n",
    "print(\"File object position: {}\".format(f.tell()))"
   ]
  },
  {
   "cell_type": "code",
   "execution_count": 28,
   "metadata": {},
   "outputs": [
    {
     "output_type": "stream",
     "name": "stdout",
     "text": [
      ". It was supposed to be made entirely of stone but after the completion of the base floor or the first storey, the people of Satara (the national capital) complained to the Shahu(King) saying that a stone monument can be sanctioned and built only by the Shahu(King) himself and not the Peshwas. Following this, an official letter was written to the Peshwas stating that the remaining building had to be made of brick and not stone. Even today if you visit and see the walls carefully, they are partly made of stone and partly by bricks. The Wada was then completed and upon being attacked by the British Artillery 90 years later, all the top six stories collapsed leaving only the stone base, which was immune to the British artillery. Hence only the stone base of the Shaniwar Wada remains and can be seen even today in the older parts of Pune.\n"
     ]
    }
   ],
   "source": [
    "f=open(\"demo.txt\",\"r\")\n",
    "f.seek(100)\n",
    "print(f.readline())"
   ]
  },
  {
   "cell_type": "code",
   "execution_count": null,
   "metadata": {},
   "outputs": [],
   "source": []
  },
  {
   "source": [
    "## CSV Handling"
   ],
   "cell_type": "markdown",
   "metadata": {}
  },
  {
   "cell_type": "code",
   "execution_count": 30,
   "metadata": {},
   "outputs": [],
   "source": [
    "import csv"
   ]
  },
  {
   "cell_type": "code",
   "execution_count": 39,
   "metadata": {},
   "outputs": [],
   "source": [
    "with open(\"data.csv\",\"w\") as file:\n",
    "    write_obj=csv.writer(file)\n",
    "    write_obj.writerow([\"Name\",\"Age\",\"Contact no\"])\n",
    "    write_obj.writerow([\"Durvankur\",\"20\",\"8805552158\"])\n",
    "    write_obj.writerow([\"Manas\",\"19\",\"9511646396\"])"
   ]
  },
  {
   "cell_type": "code",
   "execution_count": 40,
   "metadata": {},
   "outputs": [
    {
     "output_type": "stream",
     "name": "stdout",
     "text": [
      "['Name', 'Age', 'Contact no']\n[]\n['Durvankur', '20', '8805552158']\n[]\n['Manas', '19', '9511646396']\n[]\n"
     ]
    }
   ],
   "source": [
    "with open(\"data.csv\",\"r\") as file:\n",
    "    read_obj=csv.reader(file)\n",
    "    for i in read_obj:\n",
    "        print(i)"
   ]
  },
  {
   "cell_type": "code",
   "execution_count": null,
   "metadata": {},
   "outputs": [],
   "source": []
  }
 ]
}